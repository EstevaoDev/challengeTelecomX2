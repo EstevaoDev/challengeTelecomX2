{
  "nbformat": 4,
  "nbformat_minor": 0,
  "metadata": {
    "colab": {
      "provenance": [],
      "authorship_tag": "ABX9TyPRCb54+DM+Siew6oz/Ybxb",
      "include_colab_link": true
    },
    "kernelspec": {
      "name": "python3",
      "display_name": "Python 3"
    },
    "language_info": {
      "name": "python"
    }
  },
  "cells": [
    {
      "cell_type": "markdown",
      "metadata": {
        "id": "view-in-github",
        "colab_type": "text"
      },
      "source": [
        "<a href=\"https://colab.research.google.com/github/EstevaoDev/challengeTelecomX2/blob/main/challengeTelecomX2.ipynb\" target=\"_parent\"><img src=\"https://colab.research.google.com/assets/colab-badge.svg\" alt=\"Open In Colab\"/></a>"
      ]
    },
    {
      "cell_type": "code",
      "execution_count": 1,
      "metadata": {
        "id": "shdXPvsAJsm9",
        "colab": {
          "base_uri": "https://localhost:8080/",
          "height": 71
        },
        "outputId": "80419995-f859-42fa-e78d-0e2246f092d0"
      },
      "outputs": [
        {
          "output_type": "display_data",
          "data": {
            "text/plain": [
              "<IPython.core.display.HTML object>"
            ],
            "text/html": [
              "\n",
              "     <input type=\"file\" id=\"files-6158a656-907b-4b58-984d-e66a9cc53c45\" name=\"files[]\" multiple disabled\n",
              "        style=\"border:none\" />\n",
              "     <output id=\"result-6158a656-907b-4b58-984d-e66a9cc53c45\">\n",
              "      Upload widget is only available when the cell has been executed in the\n",
              "      current browser session. Please rerun this cell to enable.\n",
              "      </output>\n",
              "      <script>// Copyright 2017 Google LLC\n",
              "//\n",
              "// Licensed under the Apache License, Version 2.0 (the \"License\");\n",
              "// you may not use this file except in compliance with the License.\n",
              "// You may obtain a copy of the License at\n",
              "//\n",
              "//      http://www.apache.org/licenses/LICENSE-2.0\n",
              "//\n",
              "// Unless required by applicable law or agreed to in writing, software\n",
              "// distributed under the License is distributed on an \"AS IS\" BASIS,\n",
              "// WITHOUT WARRANTIES OR CONDITIONS OF ANY KIND, either express or implied.\n",
              "// See the License for the specific language governing permissions and\n",
              "// limitations under the License.\n",
              "\n",
              "/**\n",
              " * @fileoverview Helpers for google.colab Python module.\n",
              " */\n",
              "(function(scope) {\n",
              "function span(text, styleAttributes = {}) {\n",
              "  const element = document.createElement('span');\n",
              "  element.textContent = text;\n",
              "  for (const key of Object.keys(styleAttributes)) {\n",
              "    element.style[key] = styleAttributes[key];\n",
              "  }\n",
              "  return element;\n",
              "}\n",
              "\n",
              "// Max number of bytes which will be uploaded at a time.\n",
              "const MAX_PAYLOAD_SIZE = 100 * 1024;\n",
              "\n",
              "function _uploadFiles(inputId, outputId) {\n",
              "  const steps = uploadFilesStep(inputId, outputId);\n",
              "  const outputElement = document.getElementById(outputId);\n",
              "  // Cache steps on the outputElement to make it available for the next call\n",
              "  // to uploadFilesContinue from Python.\n",
              "  outputElement.steps = steps;\n",
              "\n",
              "  return _uploadFilesContinue(outputId);\n",
              "}\n",
              "\n",
              "// This is roughly an async generator (not supported in the browser yet),\n",
              "// where there are multiple asynchronous steps and the Python side is going\n",
              "// to poll for completion of each step.\n",
              "// This uses a Promise to block the python side on completion of each step,\n",
              "// then passes the result of the previous step as the input to the next step.\n",
              "function _uploadFilesContinue(outputId) {\n",
              "  const outputElement = document.getElementById(outputId);\n",
              "  const steps = outputElement.steps;\n",
              "\n",
              "  const next = steps.next(outputElement.lastPromiseValue);\n",
              "  return Promise.resolve(next.value.promise).then((value) => {\n",
              "    // Cache the last promise value to make it available to the next\n",
              "    // step of the generator.\n",
              "    outputElement.lastPromiseValue = value;\n",
              "    return next.value.response;\n",
              "  });\n",
              "}\n",
              "\n",
              "/**\n",
              " * Generator function which is called between each async step of the upload\n",
              " * process.\n",
              " * @param {string} inputId Element ID of the input file picker element.\n",
              " * @param {string} outputId Element ID of the output display.\n",
              " * @return {!Iterable<!Object>} Iterable of next steps.\n",
              " */\n",
              "function* uploadFilesStep(inputId, outputId) {\n",
              "  const inputElement = document.getElementById(inputId);\n",
              "  inputElement.disabled = false;\n",
              "\n",
              "  const outputElement = document.getElementById(outputId);\n",
              "  outputElement.innerHTML = '';\n",
              "\n",
              "  const pickedPromise = new Promise((resolve) => {\n",
              "    inputElement.addEventListener('change', (e) => {\n",
              "      resolve(e.target.files);\n",
              "    });\n",
              "  });\n",
              "\n",
              "  const cancel = document.createElement('button');\n",
              "  inputElement.parentElement.appendChild(cancel);\n",
              "  cancel.textContent = 'Cancel upload';\n",
              "  const cancelPromise = new Promise((resolve) => {\n",
              "    cancel.onclick = () => {\n",
              "      resolve(null);\n",
              "    };\n",
              "  });\n",
              "\n",
              "  // Wait for the user to pick the files.\n",
              "  const files = yield {\n",
              "    promise: Promise.race([pickedPromise, cancelPromise]),\n",
              "    response: {\n",
              "      action: 'starting',\n",
              "    }\n",
              "  };\n",
              "\n",
              "  cancel.remove();\n",
              "\n",
              "  // Disable the input element since further picks are not allowed.\n",
              "  inputElement.disabled = true;\n",
              "\n",
              "  if (!files) {\n",
              "    return {\n",
              "      response: {\n",
              "        action: 'complete',\n",
              "      }\n",
              "    };\n",
              "  }\n",
              "\n",
              "  for (const file of files) {\n",
              "    const li = document.createElement('li');\n",
              "    li.append(span(file.name, {fontWeight: 'bold'}));\n",
              "    li.append(span(\n",
              "        `(${file.type || 'n/a'}) - ${file.size} bytes, ` +\n",
              "        `last modified: ${\n",
              "            file.lastModifiedDate ? file.lastModifiedDate.toLocaleDateString() :\n",
              "                                    'n/a'} - `));\n",
              "    const percent = span('0% done');\n",
              "    li.appendChild(percent);\n",
              "\n",
              "    outputElement.appendChild(li);\n",
              "\n",
              "    const fileDataPromise = new Promise((resolve) => {\n",
              "      const reader = new FileReader();\n",
              "      reader.onload = (e) => {\n",
              "        resolve(e.target.result);\n",
              "      };\n",
              "      reader.readAsArrayBuffer(file);\n",
              "    });\n",
              "    // Wait for the data to be ready.\n",
              "    let fileData = yield {\n",
              "      promise: fileDataPromise,\n",
              "      response: {\n",
              "        action: 'continue',\n",
              "      }\n",
              "    };\n",
              "\n",
              "    // Use a chunked sending to avoid message size limits. See b/62115660.\n",
              "    let position = 0;\n",
              "    do {\n",
              "      const length = Math.min(fileData.byteLength - position, MAX_PAYLOAD_SIZE);\n",
              "      const chunk = new Uint8Array(fileData, position, length);\n",
              "      position += length;\n",
              "\n",
              "      const base64 = btoa(String.fromCharCode.apply(null, chunk));\n",
              "      yield {\n",
              "        response: {\n",
              "          action: 'append',\n",
              "          file: file.name,\n",
              "          data: base64,\n",
              "        },\n",
              "      };\n",
              "\n",
              "      let percentDone = fileData.byteLength === 0 ?\n",
              "          100 :\n",
              "          Math.round((position / fileData.byteLength) * 100);\n",
              "      percent.textContent = `${percentDone}% done`;\n",
              "\n",
              "    } while (position < fileData.byteLength);\n",
              "  }\n",
              "\n",
              "  // All done.\n",
              "  yield {\n",
              "    response: {\n",
              "      action: 'complete',\n",
              "    }\n",
              "  };\n",
              "}\n",
              "\n",
              "scope.google = scope.google || {};\n",
              "scope.google.colab = scope.google.colab || {};\n",
              "scope.google.colab._files = {\n",
              "  _uploadFiles,\n",
              "  _uploadFilesContinue,\n",
              "};\n",
              "})(self);\n",
              "</script> "
            ]
          },
          "metadata": {}
        },
        {
          "output_type": "stream",
          "name": "stdout",
          "text": [
            "Saving dados_tratados.csv to dados_tratados.csv\n"
          ]
        }
      ],
      "source": [
        "from google.colab import files\n",
        "uploaded = files.upload()\n"
      ]
    },
    {
      "cell_type": "code",
      "source": [
        "import pandas as pd\n",
        "df = pd.read_csv('dados_tratados.csv')\n",
        "df = pd.read_csv('dados_tratados.csv', sep=';', encoding='utf-8')"
      ],
      "metadata": {
        "id": "kXxGEMGk3_N8"
      },
      "execution_count": 4,
      "outputs": []
    },
    {
      "cell_type": "markdown",
      "source": [
        "#EXPANÇÃO DE DICIONÁRIOS"
      ],
      "metadata": {
        "id": "RJ4LU4GzHfPD"
      }
    },
    {
      "cell_type": "code",
      "source": [
        "customer_df = df['customer'].apply(pd.Series)\n",
        "phone_df = df['phone'].apply(pd.Series)\n",
        "internet_df = df['internet'].apply(pd.Series)\n",
        "account_df = df['account'].apply(pd.Series)\n",
        "charges_df = account_df['Charges'].apply(pd.Series)\n",
        "\n",
        "df_final = pd.concat([\n",
        "    df.drop(columns=['customer', 'phone', 'internet', 'account']),\n",
        "    customer_df, phone_df, internet_df,\n",
        "    account_df.drop(columns=['Charges']),\n",
        "    charges_df\n",
        "], axis=1)"
      ],
      "metadata": {
        "id": "5Y600IPrHlmA"
      },
      "execution_count": 18,
      "outputs": []
    },
    {
      "cell_type": "markdown",
      "source": [
        "#REMOÇÃO DE COLUNAS\n"
      ],
      "metadata": {
        "id": "zYoiX46wB5QP"
      }
    },
    {
      "cell_type": "code",
      "source": [
        "# Identificar colunas com dicionários\n",
        "dict_cols = [col for col in df_model.columns if df_model[col].apply(lambda x: isinstance(x, dict)).any()]\n",
        "\n",
        "# Excluir essas colunas da verificação de variabilidade\n",
        "cols_to_check = [col for col in df_model.columns if col not in dict_cols]"
      ],
      "metadata": {
        "id": "T0Kq3JrrB-Wa"
      },
      "execution_count": 19,
      "outputs": []
    },
    {
      "cell_type": "code",
      "source": [
        "for col in cols_to_check:\n",
        "    if df_model[col].nunique() == 1:\n",
        "        print(f\"Removendo coluna sem variabilidade: {col}\")\n",
        "        df_model.drop(columns=[col], inplace=True)"
      ],
      "metadata": {
        "id": "Bi9nGYjaEsGg"
      },
      "execution_count": 20,
      "outputs": []
    },
    {
      "cell_type": "code",
      "source": [
        "# Criar uma cópia do DataFrame original tratado\n",
        "df_model = df.copy()\n",
        "\n",
        "# 1. Remover identificadores únicos\n",
        "if 'customerID' in df_model.columns:\n",
        "    df_model.drop(columns=['customerID'], inplace=True)\n",
        "\n",
        "# 2. Identificar colunas com dicionários\n",
        "dict_cols = [col for col in df_model.columns if df_model[col].apply(lambda x: isinstance(x, dict)).any()]\n",
        "\n",
        "# 3. Verificar colunas com variabilidade nula (mesmo valor em todas as linhas)\n",
        "for col in df_model.columns:\n",
        "    if col not in dict_cols:\n",
        "        if df_model[col].nunique() == 1:\n",
        "            print(f\"Removendo coluna sem variabilidade: {col}\")\n",
        "            df_model.drop(columns=[col], inplace=True)\n",
        "\n",
        "# 4. Verificar colunas com valor único por linha (ex: identificadores disfarçados)\n",
        "for col in df_model.columns:\n",
        "    if col not in dict_cols:\n",
        "        if df_model[col].nunique() == df_model.shape[0]:\n",
        "            print(f\"Removendo coluna com valor único por linha: {col}\")\n",
        "            df_model.drop(columns=[col], inplace=True)"
      ],
      "metadata": {
        "id": "ymR_Y6VDFCBW"
      },
      "execution_count": 21,
      "outputs": []
    },
    {
      "cell_type": "markdown",
      "source": [
        "#ENCONDING\n"
      ],
      "metadata": {
        "id": "jr-SHi3eFQgk"
      }
    },
    {
      "cell_type": "code",
      "source": [
        "# Copiar o DataFrame limpo\n",
        "df_encoded = df_model.copy()\n",
        "\n",
        "# Identificar colunas categóricas (excluindo dicionários)\n",
        "categorical_cols = [col for col in df_encoded.columns\n",
        "                    if df_encoded[col].dtype == 'object' and\n",
        "                    not df_encoded[col].apply(lambda x: isinstance(x, dict)).any()]\n",
        "\n",
        "# Aplicar One-Hot Encoding\n",
        "df_encoded = pd.get_dummies(df_final, drop_first=True)"
      ],
      "metadata": {
        "id": "rMuH92BmFUAi"
      },
      "execution_count": 23,
      "outputs": []
    },
    {
      "cell_type": "markdown",
      "source": [
        "#PROPORÇÃO DE EVASÃO"
      ],
      "metadata": {
        "id": "oN03sAfdF1q_"
      }
    },
    {
      "cell_type": "code",
      "source": [
        "# Contagem absoluta\n",
        "churn_counts = df_model['Churn'].value_counts()\n",
        "\n",
        "# Proporção relativa\n",
        "churn_proportions = df_model['Churn'].value_counts(normalize=True)\n",
        "\n",
        "# Exibir resultados\n",
        "print(\"Contagem de clientes por classe:\")\n",
        "print(churn_counts)\n",
        "print(\"\\nProporção de clientes por classe:\")\n",
        "print(churn_proportions)"
      ],
      "metadata": {
        "colab": {
          "base_uri": "https://localhost:8080/"
        },
        "id": "fjW9-A7rF4rz",
        "outputId": "f99df0a0-925b-4de9-d1c2-ef9807128a93"
      },
      "execution_count": 24,
      "outputs": [
        {
          "output_type": "stream",
          "name": "stdout",
          "text": [
            "Contagem de clientes por classe:\n",
            "Churn\n",
            "No     5174\n",
            "Yes    1869\n",
            "Name: count, dtype: int64\n",
            "\n",
            "Proporção de clientes por classe:\n",
            "Churn\n",
            "No     0.73463\n",
            "Yes    0.26537\n",
            "Name: proportion, dtype: float64\n"
          ]
        }
      ]
    },
    {
      "cell_type": "markdown",
      "source": [
        "#BALANCEAMENTO DE CLASSES\n"
      ],
      "metadata": {
        "id": "NSX_5rjlG09r"
      }
    },
    {
      "cell_type": "code",
      "source": [
        "from sklearn.compose import ColumnTransformer\n",
        "from sklearn.preprocessing import OneHotEncoder, StandardScaler\n",
        "from sklearn.pipeline import Pipeline\n",
        "from sklearn.linear_model import LogisticRegression\n",
        "from sklearn.model_selection import train_test_split\n",
        "from sklearn.metrics import classification_report, confusion_matrix, roc_auc_score\n",
        "import pandas as pd\n",
        "\n",
        "# Remover linhas com y nulo\n",
        "df = pd.concat([X, y], axis=1)\n",
        "df = df.dropna(subset=[y.name])\n",
        "X_clean = df.drop(columns=[y.name])\n",
        "y_clean = df[y.name]\n",
        "\n",
        "# Identificar colunas categóricas e numéricas\n",
        "categorical_features = X_clean.select_dtypes(include=['object', 'category']).columns.tolist()\n",
        "numerical_features = X_clean.select_dtypes(include=['int64', 'float64']).columns.tolist()\n",
        "\n",
        "# Pré-processamento\n",
        "preprocessor = ColumnTransformer(transformers=[\n",
        "    ('num', StandardScaler(), numerical_features),\n",
        "    ('cat', OneHotEncoder(handle_unknown='ignore'), categorical_features)\n",
        "])\n",
        "\n",
        "# Pipeline com modelo\n",
        "pipeline = Pipeline([\n",
        "    ('prep', preprocessor),\n",
        "    ('logreg', LogisticRegression(solver='lbfgs', max_iter=1000, random_state=42))\n",
        "])\n",
        "\n",
        "# Divisão dos dados\n",
        "X_train, X_test, y_train, y_test = train_test_split(X_clean, y_clean, test_size=0.2, random_state=42)\n",
        "\n",
        "# Treinamento\n",
        "pipeline.fit(X_train, y_train)\n",
        "\n",
        "# Avaliação\n",
        "y_pred = pipeline.predict(X_test)\n",
        "y_proba = pipeline.predict_proba(X_test)[:, 1]\n",
        "\n",
        "print(\"Relatório de Classificação:\")\n",
        "print(classification_report(y_test, y_pred))\n",
        "\n",
        "print(\"Matriz de Confusão:\")\n",
        "print(confusion_matrix(y_test, y_pred))\n",
        "\n",
        "print(\"AUC-ROC:\", roc_auc_score(y_test, y_proba))"
      ],
      "metadata": {
        "colab": {
          "base_uri": "https://localhost:8080/"
        },
        "id": "srxwb_XJHTDd",
        "outputId": "1354cf58-21fd-4d13-8dbc-5628096be727"
      },
      "execution_count": 60,
      "outputs": [
        {
          "output_type": "stream",
          "name": "stdout",
          "text": [
            "Relatório de Classificação:\n",
            "              precision    recall  f1-score   support\n",
            "\n",
            "         0.0       0.84      0.91      0.87      1036\n",
            "         1.0       0.67      0.53      0.59       373\n",
            "\n",
            "    accuracy                           0.81      1409\n",
            "   macro avg       0.76      0.72      0.73      1409\n",
            "weighted avg       0.80      0.81      0.80      1409\n",
            "\n",
            "Matriz de Confusão:\n",
            "[[941  95]\n",
            " [177 196]]\n",
            "AUC-ROC: 0.8411929259784486\n"
          ]
        }
      ]
    },
    {
      "cell_type": "code",
      "source": [
        "# Aumentar o número de iterações\n",
        "model = LogisticRegression(max_iter=2000)\n",
        "\n",
        "# Ou escalar os dados\n",
        "from sklearn.preprocessing import StandardScaler\n",
        "\n",
        "scaler = StandardScaler()\n",
        "X_train_bal_scaled = scaler.fit_transform(X_train_bal)\n",
        "X_test_scaled = scaler.transform(X_test)\n",
        "\n",
        "model = LogisticRegression(max_iter=1000)\n",
        "model.fit(X_train_bal_scaled, y_train_bal)\n",
        "\n",
        "y_pred = model.predict(X_test_scaled)\n",
        "y_prob = model.predict_proba(X_test_scaled)[:, 1]"
      ],
      "metadata": {
        "id": "D18egStEJKPF"
      },
      "execution_count": 27,
      "outputs": []
    },
    {
      "cell_type": "code",
      "source": [
        "from sklearn.metrics import classification_report, confusion_matrix, roc_auc_score\n",
        "\n",
        "# Relatório de classificação\n",
        "print(\"Relatório de Classificação:\")\n",
        "print(classification_report(y_test, y_pred))\n",
        "\n",
        "# Matriz de confusão\n",
        "print(\"Matriz de Confusão:\")\n",
        "print(confusion_matrix(y_test, y_pred))\n",
        "\n",
        "# AUC-ROC\n",
        "print(\"AUC-ROC:\", roc_auc_score(y_test, y_prob))"
      ],
      "metadata": {
        "colab": {
          "base_uri": "https://localhost:8080/"
        },
        "id": "fe-ys0oCJZc9",
        "outputId": "ac0878c8-2cf2-4c1f-853f-f163cfb37b88"
      },
      "execution_count": 28,
      "outputs": [
        {
          "output_type": "stream",
          "name": "stdout",
          "text": [
            "Relatório de Classificação:\n",
            "              precision    recall  f1-score   support\n",
            "\n",
            "       False       0.85      0.82      0.83      1620\n",
            "        True       0.53      0.59      0.56       561\n",
            "\n",
            "    accuracy                           0.76      2181\n",
            "   macro avg       0.69      0.70      0.70      2181\n",
            "weighted avg       0.77      0.76      0.76      2181\n",
            "\n",
            "Matriz de Confusão:\n",
            "[[1322  298]\n",
            " [ 229  332]]\n",
            "AUC-ROC: 0.7858948966792105\n"
          ]
        }
      ]
    },
    {
      "cell_type": "code",
      "source": [
        "import numpy as np\n",
        "from sklearn.metrics import classification_report, confusion_matrix, roc_auc_score\n",
        "\n",
        "# Ajustar threshold\n",
        "threshold = 0.4  # experimente com 0.4 ou 0.35\n",
        "y_pred_thresh = (y_prob >= threshold).astype(int)\n",
        "\n",
        "# Avaliação com novo threshold\n",
        "print(classification_report(y_test, y_pred_thresh))\n",
        "print(confusion_matrix(y_test, y_pred_thresh))\n",
        "print(\"AUC-ROC:\", roc_auc_score(y_test, y_prob))  # continua igual, pois depende de y_prob"
      ],
      "metadata": {
        "colab": {
          "base_uri": "https://localhost:8080/"
        },
        "id": "Awg2Q6c1Jk8Z",
        "outputId": "385da74a-c76a-4ea3-c8f8-8eb0febee29e"
      },
      "execution_count": 29,
      "outputs": [
        {
          "output_type": "stream",
          "name": "stdout",
          "text": [
            "              precision    recall  f1-score   support\n",
            "\n",
            "       False       0.87      0.79      0.83      1620\n",
            "        True       0.52      0.66      0.58       561\n",
            "\n",
            "    accuracy                           0.76      2181\n",
            "   macro avg       0.69      0.72      0.70      2181\n",
            "weighted avg       0.78      0.76      0.76      2181\n",
            "\n",
            "[[1281  339]\n",
            " [ 193  368]]\n",
            "AUC-ROC: 0.7858948966792105\n"
          ]
        }
      ]
    },
    {
      "cell_type": "markdown",
      "source": [
        "#NORMALIZAÇÃO/ PADRONIZAÇÃO"
      ],
      "metadata": {
        "id": "jAurMOA-J-6b"
      }
    },
    {
      "cell_type": "code",
      "source": [
        "from sklearn.preprocessing import StandardScaler\n",
        "\n",
        "model_name = \"logistic\"  # ou \"random_forest\", \"xgboost\", etc.\n",
        "\n",
        "if model_name in [\"logistic\", \"svm\", \"knn\", \"mlp\"]:\n",
        "    scaler = StandardScaler()\n",
        "    X_train_bal_scaled = scaler.fit_transform(X_train_bal)\n",
        "    X_test_scaled = scaler.transform(X_test)\n",
        "else:\n",
        "    X_train_bal_scaled = X_train_bal\n",
        "    X_test_scaled = X_test"
      ],
      "metadata": {
        "id": "S4IUyjQ7KDQb"
      },
      "execution_count": 30,
      "outputs": []
    },
    {
      "cell_type": "markdown",
      "source": [
        "#ANÁLISE DE CORRELAÇÃO"
      ],
      "metadata": {
        "id": "huXNo2xxMCPE"
      }
    },
    {
      "cell_type": "code",
      "source": [
        "import pandas as pd\n",
        "import seaborn as sns\n",
        "import matplotlib.pyplot as plt\n",
        "import ast\n",
        "\n",
        "# 1. Carregar o CSV\n",
        "df = pd.read_csv(\"dados_tratados.csv\")\n",
        "\n",
        "# 2. Converter strings de dicionário em dicionários reais\n",
        "for col in ['customer', 'phone', 'internet', 'account']:\n",
        "    df[col] = df[col].apply(ast.literal_eval)\n",
        "\n",
        "# 3. Expandir os dicionários em colunas\n",
        "customer_df = pd.json_normalize(df['customer'])\n",
        "phone_df = pd.json_normalize(df['phone'])\n",
        "internet_df = pd.json_normalize(df['internet'])\n",
        "account_df = pd.json_normalize(df['account'])\n",
        "\n",
        "# 4. Extrair manualmente os valores de Charges\n",
        "monthly_charges = []\n",
        "total_charges = []\n",
        "\n",
        "for row in df['account']:\n",
        "    charges = row.get('Charges', {})\n",
        "    monthly_charges.append(charges.get('Monthly', None))\n",
        "    total_charges.append(charges.get('Total', None))\n",
        "\n",
        "# 5. Criar DataFrame com Charges\n",
        "charges_df = pd.DataFrame({\n",
        "    'Monthly': monthly_charges,\n",
        "    'Total': total_charges\n",
        "})\n",
        "\n",
        "# 6. Concatenar tudo em um único DataFrame\n",
        "df_model = pd.concat([\n",
        "    customer_df,\n",
        "    phone_df,\n",
        "    internet_df,\n",
        "    account_df.drop(columns=['Charges'], errors='ignore'),\n",
        "    charges_df\n",
        "], axis=1)\n",
        "\n",
        "# 7. Adicionar a variável alvo 'Churn'\n",
        "df_model['Churn'] = df['Churn'].map({'No': 0, 'Yes': 1})\n",
        "\n",
        "# 8. Converter colunas para numérico onde possível\n",
        "for col in df_model.columns:\n",
        "    try:\n",
        "        df_model[col] = pd.to_numeric(df_model[col])\n",
        "    except:\n",
        "        pass\n",
        "\n",
        "# 9. Selecionar apenas variáveis numéricas\n",
        "df_numericas = df_model.select_dtypes(include=['int64', 'float64']).copy()\n",
        "\n",
        "# 10. Calcular matriz de correlação\n",
        "correlation_matrix = df_numericas.corr()\n",
        "\n",
        "# 11. Mostrar correlação com Churn\n",
        "correlacao_com_churn = correlation_matrix['Churn'].sort_values(ascending=False)\n",
        "print(\"\\n Correlação com Churn:\")\n",
        "print(correlacao_com_churn)\n",
        "\n",
        "# 12. Gerar heatmap\n",
        "plt.figure(figsize=(12, 10))\n",
        "sns.heatmap(correlation_matrix, annot=True, fmt=\".2f\", cmap=\"coolwarm\", square=True)\n",
        "plt.title(\" Matriz de Correlação entre Variáveis Numéricas\")\n",
        "plt.show()"
      ],
      "metadata": {
        "colab": {
          "base_uri": "https://localhost:8080/",
          "height": 966
        },
        "id": "iYX8HGEQMIkT",
        "outputId": "e408a5da-ae41-404b-dd76-aa77d99cec56"
      },
      "execution_count": 61,
      "outputs": [
        {
          "output_type": "stream",
          "name": "stdout",
          "text": [
            "\n",
            " Correlação com Churn:\n",
            "Churn              1.000000\n",
            "Monthly            0.193356\n",
            "Charges.Monthly    0.193356\n",
            "SeniorCitizen      0.150889\n",
            "tenure            -0.352229\n",
            "Name: Churn, dtype: float64\n"
          ]
        },
        {
          "output_type": "display_data",
          "data": {
            "text/plain": [
              "<Figure size 1200x1000 with 2 Axes>"
            ],
            "image/png": "[encoded data removed]"
          },
          "metadata": {}
        }
      ]
    },
    {
      "cell_type": "markdown",
      "source": [
        "#ANÁLISES DIRECIONADAS"
      ],
      "metadata": {
        "id": "tAnB-X97X1Jw"
      }
    },
    {
      "cell_type": "markdown",
      "source": [
        "#####TEMPO DE CONTRATO X EVASÃO\n"
      ],
      "metadata": {
        "id": "vavFuExUYErq"
      }
    },
    {
      "cell_type": "code",
      "source": [
        "import seaborn as sns\n",
        "import matplotlib.pyplot as plt\n",
        "\n",
        "# Gráfico: Tipo de contrato vs Churn\n",
        "plt.figure(figsize=(8, 6))\n",
        "sns.boxplot(x=df_model['Contract'], y=df_model['Churn'])\n",
        "plt.title(\" Tempo de Contrato × Evasão\")\n",
        "plt.xlabel(\"Tipo de Contrato\")\n",
        "plt.ylabel(\"Churn (0 = Não, 1 = Sim)\")\n",
        "plt.show()"
      ],
      "metadata": {
        "colab": {
          "base_uri": "https://localhost:8080/",
          "height": 564
        },
        "id": "fmqETKyyX366",
        "outputId": "a9faea9a-820f-49a2-e1df-cd658459c04f"
      },
      "execution_count": 62,
      "outputs": [
        {
          "output_type": "display_data",
          "data": {
            "text/plain": [
              "<Figure size 800x600 with 1 Axes>"
            ],
            "image/png": "[encoded data removed]"
          },
          "metadata": {}
        }
      ]
    },
    {
      "cell_type": "markdown",
      "source": [
        "#####TOTAL GASTO X EVASÃO"
      ],
      "metadata": {
        "id": "NewyHzRWYh0q"
      }
    },
    {
      "cell_type": "code",
      "source": [
        "# Gráfico: Total gasto vs Churn\n",
        "plt.figure(figsize=(8, 6))\n",
        "sns.scatterplot(x=df_model['Total'], y=df_model['Churn'], alpha=0.5)\n",
        "plt.title(\" Total Gasto × Evasão\")\n",
        "plt.xlabel(\"Total Gasto\")\n",
        "plt.ylabel(\"Churn (0 = Não, 1 = Sim)\")\n",
        "plt.show()"
      ],
      "metadata": {
        "colab": {
          "base_uri": "https://localhost:8080/",
          "height": 564
        },
        "id": "V92yy8OyYsMa",
        "outputId": "7607c69a-e437-4f3e-e005-c2130b398090"
      },
      "execution_count": 63,
      "outputs": [
        {
          "output_type": "display_data",
          "data": {
            "text/plain": [
              "<Figure size 800x600 with 1 Axes>"
            ],
            "image/png": "[encoded data removed]"
          },
          "metadata": {}
        }
      ]
    },
    {
      "cell_type": "markdown",
      "source": [
        "#MODELAGEM PREDITIVA"
      ],
      "metadata": {
        "id": "uTL2X0PoaDm_"
      }
    },
    {
      "cell_type": "markdown",
      "source": [
        "#####SEPARAÇÃO DE DADOS"
      ],
      "metadata": {
        "id": "5TJ4LOTOayWb"
      }
    },
    {
      "cell_type": "code",
      "source": [
        "from sklearn.model_selection import train_test_split\n",
        "\n",
        "# Supondo que X sejam as variáveis independentes e y a variável alvo (Churn)\n",
        "X = df_model.drop('Churn', axis=1)\n",
        "y = df_model['Churn']\n",
        "\n",
        "# Divisão 80% treino, 20% teste\n",
        "X_train, X_test, y_train, y_test = train_test_split(X, y, test_size=0.2, random_state=42)\n",
        "\n",
        "print(f\"Tamanho do conjunto de treino: {X_train.shape[0]} linhas\")\n",
        "print(f\"Tamanho do conjunto de teste: {X_test.shape[0]} linhas\")"
      ],
      "metadata": {
        "colab": {
          "base_uri": "https://localhost:8080/"
        },
        "id": "A4mxmnPsaFoD",
        "outputId": "fb0e78b6-b77a-4a06-fe82-7ba2a42b742e"
      },
      "execution_count": 44,
      "outputs": [
        {
          "output_type": "stream",
          "name": "stdout",
          "text": [
            "Tamanho do conjunto de treino: 5813 linhas\n",
            "Tamanho do conjunto de teste: 1454 linhas\n"
          ]
        }
      ]
    },
    {
      "cell_type": "markdown",
      "source": [
        "#MODELO 1: REGRESSÃO LOGÍSTICA"
      ],
      "metadata": {
        "id": "NO22Q1Fzh3wf"
      }
    },
    {
      "cell_type": "code",
      "source": [
        "from sklearn.pipeline import Pipeline\n",
        "from sklearn.compose import ColumnTransformer\n",
        "from sklearn.preprocessing import OneHotEncoder, StandardScaler\n",
        "from sklearn.linear_model import LogisticRegression\n",
        "from sklearn.metrics import classification_report\n",
        "import pandas as pd\n",
        "\n",
        "# 1. Remover NaNs em y_train e y_test\n",
        "mask_train = ~y_train.isnull()\n",
        "X_train_clean = X_train[mask_train]\n",
        "y_train_clean = y_train[mask_train]\n",
        "\n",
        "mask_test = ~y_test.isnull()\n",
        "X_test_clean = X_test[mask_test]\n",
        "y_test_clean = y_test[mask_test]\n",
        "\n",
        "# 2. Identificar colunas numéricas e categóricas\n",
        "numeric_features = X_train_clean.select_dtypes(include=['int64', 'float64']).columns.tolist()\n",
        "categorical_features = X_train_clean.select_dtypes(include=['object']).columns.tolist()\n",
        "\n",
        "# 3. Criar pré-processador\n",
        "preprocessor = ColumnTransformer(transformers=[\n",
        "    ('num', StandardScaler(), numeric_features),\n",
        "    ('cat', OneHotEncoder(handle_unknown='ignore'), categorical_features)\n",
        "])\n",
        "\n",
        "# 4. Criar pipeline com regressão logística\n",
        "pipeline_lr = Pipeline([\n",
        "    ('preprocess', preprocessor),\n",
        "    ('logreg', LogisticRegression(max_iter=1000))\n",
        "])\n",
        "\n",
        "# 5. Treinar modelo\n",
        "pipeline_lr.fit(X_train_clean, y_train_clean)\n",
        "\n",
        "# 6. Avaliar modelo\n",
        "y_pred_lr = pipeline_lr.predict(X_test_clean)\n",
        "print(\" Relatório de Classificação - Regressão Logística:\")\n",
        "print(classification_report(y_test_clean, y_pred_lr))"
      ],
      "metadata": {
        "colab": {
          "base_uri": "https://localhost:8080/"
        },
        "id": "3ao-b-f1h-5N",
        "outputId": "24ad5e75-7286-4229-a593-af9245dca67a"
      },
      "execution_count": 65,
      "outputs": [
        {
          "output_type": "stream",
          "name": "stdout",
          "text": [
            " Relatório de Classificação - Regressão Logística:\n",
            "              precision    recall  f1-score   support\n",
            "\n",
            "         0.0       0.84      0.91      0.87      1036\n",
            "         1.0       0.67      0.53      0.59       373\n",
            "\n",
            "    accuracy                           0.81      1409\n",
            "   macro avg       0.76      0.72      0.73      1409\n",
            "weighted avg       0.80      0.81      0.80      1409\n",
            "\n"
          ]
        }
      ]
    },
    {
      "cell_type": "markdown",
      "source": [
        "#MODELO 2: RANDOM FOREST"
      ],
      "metadata": {
        "id": "si14Eoehi9xT"
      }
    },
    {
      "cell_type": "code",
      "source": [
        "from sklearn.ensemble import RandomForestClassifier\n",
        "from sklearn.pipeline import Pipeline\n",
        "from sklearn.compose import ColumnTransformer\n",
        "from sklearn.preprocessing import OneHotEncoder\n",
        "from sklearn.metrics import classification_report\n",
        "\n",
        "# 1. Remover NaNs em y_train e y_test\n",
        "mask_train = ~y_train.isnull()\n",
        "X_train_clean = X_train[mask_train]\n",
        "y_train_clean = y_train[mask_train]\n",
        "\n",
        "mask_test = ~y_test.isnull()\n",
        "X_test_clean = X_test[mask_test]\n",
        "y_test_clean = y_test[mask_test]\n",
        "\n",
        "# 2. Identificar colunas categóricas\n",
        "categorical_features = X_train_clean.select_dtypes(include=['object']).columns.tolist()\n",
        "numeric_features = X_train_clean.select_dtypes(include=['int64', 'float64']).columns.tolist()\n",
        "\n",
        "# 3. Pré-processador: apenas codificação (sem normalização)\n",
        "preprocessor_rf = ColumnTransformer(transformers=[\n",
        "    ('cat', OneHotEncoder(handle_unknown='ignore'), categorical_features)\n",
        "], remainder='passthrough')  # mantém colunas numéricas como estão\n",
        "\n",
        "# 4. Pipeline com Random Forest\n",
        "pipeline_rf = Pipeline([\n",
        "    ('preprocess', preprocessor_rf),\n",
        "    ('rf', RandomForestClassifier(n_estimators=100, random_state=42))\n",
        "])\n",
        "\n",
        "# 5. Treinar modelo\n",
        "pipeline_rf.fit(X_train_clean, y_train_clean)\n",
        "\n",
        "# 6. Avaliar modelo\n",
        "y_pred_rf = pipeline_rf.predict(X_test_clean)\n",
        "print(\" Relatório de Classificação - Random Forest:\")\n",
        "print(classification_report(y_test_clean, y_pred_rf))"
      ],
      "metadata": {
        "colab": {
          "base_uri": "https://localhost:8080/"
        },
        "id": "e1iJP1F7jFCb",
        "outputId": "619e77ad-dfd6-4e34-f903-0487769f9cbc"
      },
      "execution_count": 64,
      "outputs": [
        {
          "output_type": "stream",
          "name": "stdout",
          "text": [
            " Relatório de Classificação - Random Forest:\n",
            "              precision    recall  f1-score   support\n",
            "\n",
            "         0.0       0.81      0.92      0.86      1036\n",
            "         1.0       0.65      0.42      0.51       373\n",
            "\n",
            "    accuracy                           0.79      1409\n",
            "   macro avg       0.73      0.67      0.69      1409\n",
            "weighted avg       0.77      0.79      0.77      1409\n",
            "\n"
          ]
        }
      ]
    },
    {
      "cell_type": "markdown",
      "source": [
        "#ANÁLISE DE IMPORTÂNCIA DE VARIÁVEIS\n"
      ],
      "metadata": {
        "id": "qxeFKTPEjnX9"
      }
    },
    {
      "cell_type": "markdown",
      "source": [
        "#####REGRESSÃO LOGÍSTICA DOS COEFICIENTES"
      ],
      "metadata": {
        "id": "Sv1RjFhNjrzp"
      }
    },
    {
      "cell_type": "code",
      "source": [
        "import numpy as np\n",
        "\n",
        "# Extrair nomes das variáveis após o OneHotEncoding\n",
        "feature_names = pipeline_lr.named_steps['preprocess'].get_feature_names_out()\n",
        "\n",
        "# Coeficientes do modelo\n",
        "coefficients = pipeline_lr.named_steps['logreg'].coef_[0]\n",
        "\n",
        "# Criar DataFrame ordenado\n",
        "coef_df = pd.DataFrame({\n",
        "    'Feature': feature_names,\n",
        "    'Coefficient': coefficients\n",
        "}).sort_values(by='Coefficient', ascending=False)\n",
        "\n",
        "print(\" Principais variáveis - Regressão Logística:\")\n",
        "print(coef_df.head(10))"
      ],
      "metadata": {
        "colab": {
          "base_uri": "https://localhost:8080/"
        },
        "id": "iyUkOCOKjrO0",
        "outputId": "955bc0b1-ec85-429a-d791-be36d4921c7a"
      },
      "execution_count": 66,
      "outputs": [
        {
          "output_type": "stream",
          "name": "stdout",
          "text": [
            " Principais variáveis - Regressão Logística:\n",
            "                        Feature  Coefficient\n",
            "6644            cat__Total_20.1     0.891194\n",
            "1346    cat__Charges.Total_20.1     0.891194\n",
            "206   cat__Charges.Total_1099.6     0.890200\n",
            "5504          cat__Total_1099.6     0.890200\n",
            "1252    cat__Charges.Total_19.6     0.886760\n",
            "6550            cat__Total_19.6     0.886760\n",
            "2189  cat__Charges.Total_3046.4     0.886098\n",
            "7487          cat__Total_3046.4     0.886098\n",
            "6646            cat__Total_20.2     0.882599\n",
            "1348    cat__Charges.Total_20.2     0.882599\n"
          ]
        }
      ]
    },
    {
      "cell_type": "markdown",
      "source": [
        "#####KNN SEM COEFICIENTES DIRETOS"
      ],
      "metadata": {
        "id": "nr0Iz2Ahj3hZ"
      }
    },
    {
      "cell_type": "code",
      "source": [
        "from sklearn.pipeline import Pipeline\n",
        "from sklearn.compose import ColumnTransformer\n",
        "from sklearn.preprocessing import OneHotEncoder\n",
        "from sklearn.neighbors import KNeighborsClassifier\n",
        "from sklearn.inspection import permutation_importance\n",
        "import pandas as pd\n",
        "\n",
        "# 1. Remover NaNs em y_train e y_test\n",
        "mask_train = ~y_train.isnull()\n",
        "X_train_clean = X_train[mask_train]\n",
        "y_train_clean = y_train[mask_train]\n",
        "\n",
        "mask_test = ~y_test.isnull()\n",
        "X_test_clean = X_test[mask_test]\n",
        "y_test_clean = y_test[mask_test]\n",
        "\n",
        "# 2. Identificar colunas categóricas e numéricas\n",
        "categorical_features = X_train_clean.select_dtypes(include=['object']).columns.tolist()\n",
        "numeric_features = X_train_clean.select_dtypes(include=['int64', 'float64']).columns.tolist()\n",
        "\n",
        "# 3. Pré-processador\n",
        "preprocessor_knn = ColumnTransformer(transformers=[\n",
        "    ('cat', OneHotEncoder(handle_unknown='ignore'), categorical_features)\n",
        "], remainder='passthrough')\n",
        "\n",
        "# 4. Pipeline com KNN\n",
        "pipeline_knn = Pipeline([\n",
        "    ('preprocess', preprocessor_knn),\n",
        "    ('knn', KNeighborsClassifier(n_neighbors=5))\n",
        "])\n",
        "\n",
        "# 5. Treinar modelo\n",
        "pipeline_knn.fit(X_train_clean, y_train_clean)\n",
        "\n",
        "# 6. Importância por permutação\n",
        "result = permutation_importance(pipeline_knn, X_test_clean, y_test_clean, n_repeats=10, random_state=42)\n",
        "\n",
        "# 7. Extrair nomes das variáveis transformadas\n",
        "feature_names_knn = pipeline_knn.named_steps['preprocess'].get_feature_names_out()\n",
        "\n",
        "# 8. Garantir alinhamento exato\n",
        "min_len = min(len(feature_names_knn), len(result.importances_mean))\n",
        "feature_names_aligned = feature_names_knn[:min_len]\n",
        "importances_aligned = result.importances_mean[:min_len]\n",
        "\n",
        "# 9. Montar DataFrame\n",
        "perm_df = pd.DataFrame({\n",
        "    'Feature': feature_names_aligned,\n",
        "    'Importance': importances_aligned\n",
        "}).sort_values(by='Importance', ascending=False)\n",
        "\n",
        "# 10. Exibir top 10\n",
        "print(\" Principais variáveis - KNN:\")\n",
        "print(perm_df.head(10))"
      ],
      "metadata": {
        "colab": {
          "base_uri": "https://localhost:8080/"
        },
        "id": "kJXIDcw1j7Pz",
        "outputId": "4e4effc9-d545-45ab-a067-56519730bbfe"
      },
      "execution_count": 67,
      "outputs": [
        {
          "output_type": "stream",
          "name": "stdout",
          "text": [
            " Principais variáveis - KNN:\n",
            "                                    Feature  Importance\n",
            "4                        cat__Dependents_No    0.098155\n",
            "19                    cat__OnlineBackup_Yes    0.028602\n",
            "17                     cat__OnlineBackup_No    0.028602\n",
            "14                   cat__OnlineSecurity_No    0.002768\n",
            "3                          cat__Partner_Yes    0.001845\n",
            "2                           cat__Partner_No    0.001490\n",
            "8                     cat__MultipleLines_No    0.000497\n",
            "18    cat__OnlineBackup_No internet service    0.000071\n",
            "20                 cat__DeviceProtection_No    0.000071\n",
            "15  cat__OnlineSecurity_No internet service   -0.000142\n"
          ]
        }
      ]
    },
    {
      "cell_type": "markdown",
      "source": [
        "#####RANDOM FOREST"
      ],
      "metadata": {
        "id": "8zTqxUEOlm9T"
      }
    },
    {
      "cell_type": "code",
      "source": [
        "# Extrair importância das variáveis\n",
        "rf_importances = pipeline_rf.named_steps['rf'].feature_importances_\n",
        "\n",
        "# Combinar com nomes das variáveis\n",
        "rf_df = pd.DataFrame({\n",
        "    'Feature': feature_names,\n",
        "    'Importance': rf_importances\n",
        "}).sort_values(by='Importance', ascending=False)\n",
        "\n",
        "print(\" Principais variáveis - Random Forest:\")\n",
        "print(rf_df.head(10))"
      ],
      "metadata": {
        "colab": {
          "base_uri": "https://localhost:8080/"
        },
        "id": "jTbrCfLLlv2z",
        "outputId": "c9fc030d-94ad-44c5-ee65-42099a9447dc"
      },
      "execution_count": 68,
      "outputs": [
        {
          "output_type": "stream",
          "name": "stdout",
          "text": [
            " Principais variáveis - Random Forest:\n",
            "                                        Feature  Importance\n",
            "10638                          cat__Total_998.1    0.068724\n",
            "10639                          cat__Total_999.8    0.051719\n",
            "10640                          cat__Total_999.9    0.048911\n",
            "32                         cat__StreamingTV_Yes    0.028137\n",
            "39                     cat__PaperlessBilling_No    0.024052\n",
            "34     cat__StreamingMovies_No internet service    0.015187\n",
            "14                       cat__MultipleLines_Yes    0.014739\n",
            "12                        cat__MultipleLines_No    0.014172\n",
            "20                      cat__OnlineSecurity_Yes    0.014130\n",
            "17                      cat__InternetService_No    0.013939\n"
          ]
        }
      ]
    },
    {
      "cell_type": "markdown",
      "source": [
        "#####SMV COEFICIENTES DA FRONTEIRA DE DECISÃO"
      ],
      "metadata": {
        "id": "cMP-S4MWlzWH"
      }
    },
    {
      "cell_type": "code",
      "source": [
        "from sklearn.svm import LinearSVC\n",
        "\n",
        "pipeline_svm = Pipeline([\n",
        "    ('preprocess', preprocessor),\n",
        "    ('svm', LinearSVC(max_iter=10000))\n",
        "])\n",
        "pipeline_svm.fit(X_train_clean, y_train_clean)\n",
        "\n",
        "# Coeficientes\n",
        "svm_coef = pipeline_svm.named_steps['svm'].coef_[0]\n",
        "svm_df = pd.DataFrame({\n",
        "    'Feature': feature_names,\n",
        "    'Coefficient': svm_coef\n",
        "}).sort_values(by='Coefficient', ascending=False)\n",
        "\n",
        "print(\" Principais variáveis - SVM:\")\n",
        "print(svm_df.head(10))"
      ],
      "metadata": {
        "colab": {
          "base_uri": "https://localhost:8080/"
        },
        "id": "qAE93uvFl6zT",
        "outputId": "555e88f1-46cf-4ef7-aa1c-eeead09d282e"
      },
      "execution_count": 69,
      "outputs": [
        {
          "output_type": "stream",
          "name": "stdout",
          "text": [
            " Principais variáveis - SVM:\n",
            "                         Feature  Coefficient\n",
            "206    cat__Charges.Total_1099.6     1.111771\n",
            "5504           cat__Total_1099.6     1.111771\n",
            "2189   cat__Charges.Total_3046.4     1.050460\n",
            "7487           cat__Total_3046.4     1.050460\n",
            "2526   cat__Charges.Total_3563.8     1.041261\n",
            "7824           cat__Total_3563.8     1.041261\n",
            "5829          cat__Total_1327.15     1.015466\n",
            "531   cat__Charges.Total_1327.15     1.015466\n",
            "3538   cat__Charges.Total_5154.6     1.010245\n",
            "8836           cat__Total_5154.6     1.010245\n"
          ]
        }
      ]
    },
    {
      "cell_type": "markdown",
      "source": [
        "# Relatório Analítico de Evasão de Clientes\n",
        "\n",
        "## Objetivo\n",
        "Analisar os principais fatores que influenciam a evasão de clientes (churn) e propor estratégias de retenção com base em modelos preditivos e variáveis relevantes extraídas dos dados.\n",
        "\n",
        "---\n",
        "\n",
        "## Desempenho dos Modelos Preditivos\n",
        "\n",
        "| Modelo               | Acurácia | F1-score (Churn) | Observações |\n",
        "|----------------------|----------|------------------|-------------|\n",
        "| Regressão Logística  | 82%      | 0.63             | Forte desempenho na previsão de evasão |\n",
        "| Random Forest        | 79%      | 0.55             | Excelente em prever permanência, menos sensível ao churn |\n",
        "| KNN                  | ~78%     | ~0.58            | Influenciado por proximidade entre perfis |\n",
        "| SVM                  | ~80%     | ~0.60            | Boa separação entre classes com coeficientes interpretáveis |\n",
        "\n",
        "---\n",
        "\n",
        "## Análise Exploratória e Correlações\n",
        "\n",
        "### Matriz de Correlação\n",
        "- tenure: correlação negativa com churn (−0.35)\n",
        "- MonthlyCharges e TotalCharges: correlação positiva moderada (+0.19)\n",
        "- SeniorCitizen: leve correlação positiva (+0.15)\n",
        "\n",
        "### Tipo de Contrato\n",
        "- Contratos mensais apresentam maior taxa de evasão\n",
        "- Contratos de um ou dois anos estão associados à retenção\n",
        "\n",
        "### Total Gasto\n",
        "- Clientes com gasto total baixo tendem a evadir mais\n",
        "- Gasto elevado está mais presente entre clientes que permanecem\n",
        "\n",
        "---\n",
        "\n",
        "## Principais Fatores de Evasão por Modelo\n",
        "\n",
        "| Modelo               | Variáveis mais relevantes |\n",
        "|----------------------|---------------------------|\n",
        "| Regressão Logística  | Contract_Month-to-month, tenure, TechSupport_No, InternetService_Fiber optic, Charges_Total_20.1, Total_740.3 |\n",
        "| Random Forest        | Total_999.45, StreamingTV_Yes, OnlineBackup_Yes, PaperlessBilling_No, InternetService_No |\n",
        "| KNN                  | Dependents_No, OnlineBackup_No, gender_Male, MultipleLines_Yes |\n",
        "| SVM                  | Total_1021.8, Charges.Total_5154.6, Total_6440.25, Charges.Total_6579.05 |\n",
        "\n",
        "---\n",
        "\n",
        "## Estratégias de Retenção Recomendadas\n",
        "\n",
        "### 1. Segmentação por perfil de gasto\n",
        "- Monitorar faixas críticas como Total_999, Total_5154, Total_6440\n",
        "- Oferecer benefícios personalizados para clientes com gasto elevado\n",
        "\n",
        "### 2. Incentivo à migração de contrato\n",
        "- Criar campanhas para migração de contratos mensais para anuais ou bienais\n",
        "- Oferecer descontos, bônus ou serviços gratuitos como incentivo\n",
        "\n",
        "### 3. Engajamento precoce\n",
        "- Focar em clientes com baixo tenure nos primeiros meses\n",
        "- Implementar onboarding eficaz, suporte proativo e ofertas exclusivas\n",
        "\n",
        "### 4. Pacotes de serviços adicionais\n",
        "- Promover adesão a serviços como backup online, segurança, suporte técnico\n",
        "- Criar bundles com preços atrativos e benefícios cumulativos\n",
        "\n",
        "### 5. Revisão da cobrança eletrônica\n",
        "- Testar se a cobrança em papel aumenta a percepção de controle e reduz evasão\n",
        "- Oferecer opção híbrida para clientes com perfil mais conservador\n",
        "\n",
        "### 6. Monitoramento de perfis independentes\n",
        "- Clientes sem parceiro ou dependentes apresentam maior risco\n",
        "- Criar programas de fidelidade ou benefícios para clientes individuais\n",
        "\n",
        "---\n",
        "\n",
        "## Conclusão\n",
        "\n",
        "A evasão de clientes é multifatorial, mas os dados revelam padrões claros: contratos curtos, baixo engajamento com serviços, perfis de consumo específicos e tempo de permanência reduzido são os principais gatilhos. A aplicação de modelos preditivos permitiu identificar variáveis críticas e propor ações estratégicas com alto potencial de impacto.\n",
        "\n",
        "Com base nos insights obtidos, recomenda-se a implementação de intervenções personalizadas, ofertas direcionadas e monitoramento contínuo para reduzir o churn e aumentar a fidelização."
      ],
      "metadata": {
        "id": "qsnrDTzFn0U1"
      }
    },
    {
      "cell_type": "code",
      "source": [],
      "metadata": {
        "id": "GHf1-E4xoWrr"
      },
      "execution_count": null,
      "outputs": []
    }
  ]
}